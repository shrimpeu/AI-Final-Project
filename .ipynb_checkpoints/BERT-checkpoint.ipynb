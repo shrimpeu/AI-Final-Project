{
 "cells": [
  {
   "cell_type": "code",
   "execution_count": null,
   "id": "65249f32-5746-4d07-8fd3-dc863da397f3",
   "metadata": {},
   "outputs": [],
   "source": [
    "import tensorflow as tf\n",
    "import tensorflow_hub as hub\n",
    "import tensorflow_text as text"
   ]
  },
  {
   "cell_type": "code",
   "execution_count": null,
   "id": "298b50f7-3000-46a0-beb2-aa129f7d72a2",
   "metadata": {},
   "outputs": [],
   "source": [
    "import nltk\n",
    "nltk.download('all')"
   ]
  },
  {
   "cell_type": "code",
   "execution_count": null,
   "id": "7cefeca7-eb9a-499f-9dd1-82b713c857ff",
   "metadata": {},
   "outputs": [],
   "source": [
    "import pandas as pd\n",
    "import re\n",
    "import nltk\n",
    "from nltk.corpus import stopwords\n",
    "from sklearn.feature_extraction.text import TfidfVectorizer,CountVectorizer\n",
    "from sklearn.model_selection import train_test_split\n",
    "from sklearn.svm import SVC\n",
    "from sklearn.ensemble import RandomForestClassifier\n",
    "from sklearn.metrics import accuracy_score\n",
    "from sklearn.metrics import classification_report\n",
    "from sklearn.preprocessing import LabelEncoder\n",
    "\n",
    "# Load the dataset\n",
    "df = pd.read_csv(r\"D:\\Projects\\Github Repo\\AI-Final-Project\\Nusrat_Dataset.csv\", encoding='ISO-8859-1')\n",
    "# Clean the data\n",
    "def clean_text(text):\n",
    "    if isinstance(text, str):  # Check if text is a string\n",
    "        text = text.lower()  # Convert to lowercase\n",
    "        text = re.sub(r'\\d+', '', text)  # Remove numbers\n",
    "        text = re.sub(r'[^\\w\\s]', '', text)  # Remove punctuation\n",
    "        text = ' '.join([word for word in text.split() if word not in stopwords.words('english')])  # Remove stopwords\n",
    "        return text\n",
    "    else:\n",
    "        return ''\n",
    "\n",
    "df['Tweets'] = df['Tweets'].apply(clean_text)\n",
    "df.drop(df[df['Tweets'] == ''].index, inplace=True)\n",
    "df.dropna(inplace=True)"
   ]
  },
  {
   "cell_type": "code",
   "execution_count": 8,
   "id": "c350fdc8-c4b5-4d80-bb3a-bbf460635dff",
   "metadata": {},
   "outputs": [
    {
     "data": {
      "text/html": [
       "<div>\n",
       "<style scoped>\n",
       "    .dataframe tbody tr th:only-of-type {\n",
       "        vertical-align: middle;\n",
       "    }\n",
       "\n",
       "    .dataframe tbody tr th {\n",
       "        vertical-align: top;\n",
       "    }\n",
       "\n",
       "    .dataframe thead tr th {\n",
       "        text-align: left;\n",
       "    }\n",
       "\n",
       "    .dataframe thead tr:last-of-type th {\n",
       "        text-align: right;\n",
       "    }\n",
       "</style>\n",
       "<table border=\"1\" class=\"dataframe\">\n",
       "  <thead>\n",
       "    <tr>\n",
       "      <th></th>\n",
       "      <th colspan=\"4\" halign=\"left\">Tweets</th>\n",
       "    </tr>\n",
       "    <tr>\n",
       "      <th></th>\n",
       "      <th>count</th>\n",
       "      <th>unique</th>\n",
       "      <th>top</th>\n",
       "      <th>freq</th>\n",
       "    </tr>\n",
       "    <tr>\n",
       "      <th>Labels</th>\n",
       "      <th></th>\n",
       "      <th></th>\n",
       "      <th></th>\n",
       "      <th></th>\n",
       "    </tr>\n",
       "  </thead>\n",
       "  <tbody>\n",
       "    <tr>\n",
       "      <th>atypical</th>\n",
       "      <td>1980</td>\n",
       "      <td>1965</td>\n",
       "      <td>atypical depression</td>\n",
       "      <td>6</td>\n",
       "    </tr>\n",
       "    <tr>\n",
       "      <th>bipolar</th>\n",
       "      <td>2443</td>\n",
       "      <td>2434</td>\n",
       "      <td>bipolar disorder</td>\n",
       "      <td>5</td>\n",
       "    </tr>\n",
       "    <tr>\n",
       "      <th>major depressive</th>\n",
       "      <td>2517</td>\n",
       "      <td>2515</td>\n",
       "      <td>major depressive disorder</td>\n",
       "      <td>3</td>\n",
       "    </tr>\n",
       "    <tr>\n",
       "      <th>no</th>\n",
       "      <td>1985</td>\n",
       "      <td>1984</td>\n",
       "      <td>winner drumroll votes krystina jimenez congrat...</td>\n",
       "      <td>2</td>\n",
       "    </tr>\n",
       "    <tr>\n",
       "      <th>postpartum</th>\n",
       "      <td>3746</td>\n",
       "      <td>3739</td>\n",
       "      <td>think postpartum depression</td>\n",
       "      <td>3</td>\n",
       "    </tr>\n",
       "    <tr>\n",
       "      <th>psychotic</th>\n",
       "      <td>2312</td>\n",
       "      <td>2303</td>\n",
       "      <td>psychotic depression</td>\n",
       "      <td>5</td>\n",
       "    </tr>\n",
       "  </tbody>\n",
       "</table>\n",
       "</div>"
      ],
      "text/plain": [
       "                 Tweets         \\\n",
       "                  count unique   \n",
       "Labels                           \n",
       "atypical           1980   1965   \n",
       "bipolar            2443   2434   \n",
       "major depressive   2517   2515   \n",
       "no                 1985   1984   \n",
       "postpartum         3746   3739   \n",
       "psychotic          2312   2303   \n",
       "\n",
       "                                                                          \n",
       "                                                                top freq  \n",
       "Labels                                                                    \n",
       "atypical                                        atypical depression    6  \n",
       "bipolar                                            bipolar disorder    5  \n",
       "major depressive                          major depressive disorder    3  \n",
       "no                winner drumroll votes krystina jimenez congrat...    2  \n",
       "postpartum                              think postpartum depression    3  \n",
       "psychotic                                      psychotic depression    5  "
      ]
     },
     "execution_count": 8,
     "metadata": {},
     "output_type": "execute_result"
    }
   ],
   "source": [
    "df.groupby('Labels').describe()"
   ]
  },
  {
   "cell_type": "code",
   "execution_count": 9,
   "id": "5c3368cc-4338-43dc-9898-164627285fa9",
   "metadata": {},
   "outputs": [
    {
     "data": {
      "text/plain": [
       "Labels\n",
       "postpartum          3746\n",
       "major depressive    2517\n",
       "bipolar             2443\n",
       "psychotic           2312\n",
       "no                  1985\n",
       "atypical            1980\n",
       "Name: count, dtype: int64"
      ]
     },
     "execution_count": 9,
     "metadata": {},
     "output_type": "execute_result"
    }
   ],
   "source": [
    "df['Labels'].value_counts()"
   ]
  },
  {
   "cell_type": "code",
   "execution_count": 10,
   "id": "4cede547-b347-4551-9cfd-083c77d2a195",
   "metadata": {},
   "outputs": [],
   "source": [
    "df_postpartum = df[df['Labels'] == 'postpartum']\n",
    "df_major = df[df['Labels'] == 'major depressive']\n",
    "df_bipolar = df[df['Labels'] == 'bipolar']\n",
    "df_psychotic = df[df['Labels'] == 'psychotic']\n",
    "df_no = df[df['Labels'] == 'no']\n",
    "df_atypical = df[df['Labels'] == 'atypical']"
   ]
  },
  {
   "cell_type": "code",
   "execution_count": 11,
   "id": "969af8b3-f2c0-430f-b2b4-a011dd47c90b",
   "metadata": {},
   "outputs": [
    {
     "data": {
      "text/plain": [
       "(3746, 2)"
      ]
     },
     "execution_count": 11,
     "metadata": {},
     "output_type": "execute_result"
    }
   ],
   "source": [
    "df_postpartum.shape"
   ]
  },
  {
   "cell_type": "code",
   "execution_count": 12,
   "id": "4bf47f2c-1dd8-46d8-980a-28fd5ef69a1b",
   "metadata": {},
   "outputs": [
    {
     "data": {
      "text/plain": [
       "(1980, 2)"
      ]
     },
     "execution_count": 12,
     "metadata": {},
     "output_type": "execute_result"
    }
   ],
   "source": [
    "df_postpartum_downsampled = df_postpartum.sample(df_atypical.shape[0])\n",
    "df_postpartum_downsampled.shape"
   ]
  },
  {
   "cell_type": "code",
   "execution_count": 14,
   "id": "a2d4f614-a107-4282-8490-092d2953d945",
   "metadata": {},
   "outputs": [
    {
     "data": {
      "text/plain": [
       "(1980, 2)"
      ]
     },
     "execution_count": 14,
     "metadata": {},
     "output_type": "execute_result"
    }
   ],
   "source": [
    "df_major_downsampled = df_major.sample(df_atypical.shape[0])\n",
    "df_major_downsampled.shape"
   ]
  },
  {
   "cell_type": "code",
   "execution_count": 15,
   "id": "6db9d86b-9f14-4689-8c43-c622988fa358",
   "metadata": {},
   "outputs": [
    {
     "data": {
      "text/plain": [
       "(1980, 2)"
      ]
     },
     "execution_count": 15,
     "metadata": {},
     "output_type": "execute_result"
    }
   ],
   "source": [
    "df_bipolar_downsampled = df_bipolar.sample(df_atypical.shape[0])\n",
    "df_bipolar_downsampled.shape"
   ]
  },
  {
   "cell_type": "code",
   "execution_count": 16,
   "id": "63b68099-4323-45ea-8829-b0d4a892226d",
   "metadata": {},
   "outputs": [
    {
     "data": {
      "text/plain": [
       "(1980, 2)"
      ]
     },
     "execution_count": 16,
     "metadata": {},
     "output_type": "execute_result"
    }
   ],
   "source": [
    "df_psychotic_downsampled = df_psychotic.sample(df_atypical.shape[0])\n",
    "df_psychotic_downsampled.shape"
   ]
  },
  {
   "cell_type": "code",
   "execution_count": 17,
   "id": "0e02a080-1824-495a-ab72-f377e610acc7",
   "metadata": {},
   "outputs": [
    {
     "data": {
      "text/plain": [
       "(1980, 2)"
      ]
     },
     "execution_count": 17,
     "metadata": {},
     "output_type": "execute_result"
    }
   ],
   "source": [
    "df_no_downsampled = df_no.sample(df_atypical.shape[0])\n",
    "df_no_downsampled.shape"
   ]
  },
  {
   "cell_type": "code",
   "execution_count": 18,
   "id": "cd38b77a-1a26-4a23-94e7-38c68998b588",
   "metadata": {},
   "outputs": [
    {
     "data": {
      "text/plain": [
       "(11880, 2)"
      ]
     },
     "execution_count": 18,
     "metadata": {},
     "output_type": "execute_result"
    }
   ],
   "source": [
    "df_balanced = pd.concat([df_postpartum_downsampled, df_major_downsampled, df_bipolar_downsampled, df_psychotic_downsampled, df_no_downsampled, df_atypical])\n",
    "df_balanced.shape"
   ]
  },
  {
   "cell_type": "code",
   "execution_count": 19,
   "id": "851a9df7-6094-4046-9605-ad1fbbf9a699",
   "metadata": {},
   "outputs": [
    {
     "data": {
      "text/plain": [
       "Labels\n",
       "postpartum          1980\n",
       "major depressive    1980\n",
       "bipolar             1980\n",
       "psychotic           1980\n",
       "no                  1980\n",
       "atypical            1980\n",
       "Name: count, dtype: int64"
      ]
     },
     "execution_count": 19,
     "metadata": {},
     "output_type": "execute_result"
    }
   ],
   "source": [
    "df_balanced['Labels'].value_counts()"
   ]
  },
  {
   "cell_type": "code",
   "execution_count": 27,
   "id": "d7ee1bac-84a9-4f02-a3f3-9cc312823c2f",
   "metadata": {},
   "outputs": [
    {
     "data": {
      "text/html": [
       "<div>\n",
       "<style scoped>\n",
       "    .dataframe tbody tr th:only-of-type {\n",
       "        vertical-align: middle;\n",
       "    }\n",
       "\n",
       "    .dataframe tbody tr th {\n",
       "        vertical-align: top;\n",
       "    }\n",
       "\n",
       "    .dataframe thead th {\n",
       "        text-align: right;\n",
       "    }\n",
       "</style>\n",
       "<table border=\"1\" class=\"dataframe\">\n",
       "  <thead>\n",
       "    <tr style=\"text-align: right;\">\n",
       "      <th></th>\n",
       "      <th>Tweets</th>\n",
       "      <th>Labels</th>\n",
       "      <th>Depression Type</th>\n",
       "    </tr>\n",
       "  </thead>\n",
       "  <tbody>\n",
       "    <tr>\n",
       "      <th>7007</th>\n",
       "      <td>é½lazy sleep disorder idiopathic hypersomnia l...</td>\n",
       "      <td>atypical</td>\n",
       "      <td>5</td>\n",
       "    </tr>\n",
       "    <tr>\n",
       "      <th>6886</th>\n",
       "      <td>itsemilykaty cp idiopathic hypersomnia similar...</td>\n",
       "      <td>atypical</td>\n",
       "      <td>5</td>\n",
       "    </tr>\n",
       "    <tr>\n",
       "      <th>3902</th>\n",
       "      <td>maddierawrk feel like thread millions follower...</td>\n",
       "      <td>psychotic</td>\n",
       "      <td>4</td>\n",
       "    </tr>\n",
       "    <tr>\n",
       "      <th>4152</th>\n",
       "      <td>every year get little confident seasonallinked...</td>\n",
       "      <td>bipolar</td>\n",
       "      <td>3</td>\n",
       "    </tr>\n",
       "    <tr>\n",
       "      <th>2798</th>\n",
       "      <td>lfgandonly_ major depressive disorder every ti...</td>\n",
       "      <td>major depressive</td>\n",
       "      <td>2</td>\n",
       "    </tr>\n",
       "    <tr>\n",
       "      <th>4903</th>\n",
       "      <td>ssris may suitable following conditions bipola...</td>\n",
       "      <td>no</td>\n",
       "      <td>0</td>\n",
       "    </tr>\n",
       "    <tr>\n",
       "      <th>10307</th>\n",
       "      <td>like im stuck nightmare cant wake mind playing...</td>\n",
       "      <td>psychotic</td>\n",
       "      <td>4</td>\n",
       "    </tr>\n",
       "    <tr>\n",
       "      <th>14424</th>\n",
       "      <td>sadness feel like black hole like theres way e...</td>\n",
       "      <td>bipolar</td>\n",
       "      <td>3</td>\n",
       "    </tr>\n",
       "    <tr>\n",
       "      <th>5126</th>\n",
       "      <td>skateforsanity mandy nods é im okay love mean ...</td>\n",
       "      <td>bipolar</td>\n",
       "      <td>3</td>\n",
       "    </tr>\n",
       "    <tr>\n",
       "      <th>9402</th>\n",
       "      <td>yep opportunity meet polish militarily amp bus...</td>\n",
       "      <td>no</td>\n",
       "      <td>0</td>\n",
       "    </tr>\n",
       "  </tbody>\n",
       "</table>\n",
       "</div>"
      ],
      "text/plain": [
       "                                                  Tweets            Labels  \\\n",
       "7007   é½lazy sleep disorder idiopathic hypersomnia l...          atypical   \n",
       "6886   itsemilykaty cp idiopathic hypersomnia similar...          atypical   \n",
       "3902   maddierawrk feel like thread millions follower...         psychotic   \n",
       "4152   every year get little confident seasonallinked...           bipolar   \n",
       "2798   lfgandonly_ major depressive disorder every ti...  major depressive   \n",
       "4903   ssris may suitable following conditions bipola...                no   \n",
       "10307  like im stuck nightmare cant wake mind playing...         psychotic   \n",
       "14424  sadness feel like black hole like theres way e...           bipolar   \n",
       "5126   skateforsanity mandy nods é im okay love mean ...           bipolar   \n",
       "9402   yep opportunity meet polish militarily amp bus...                no   \n",
       "\n",
       "       Depression Type  \n",
       "7007                 5  \n",
       "6886                 5  \n",
       "3902                 4  \n",
       "4152                 3  \n",
       "2798                 2  \n",
       "4903                 0  \n",
       "10307                4  \n",
       "14424                3  \n",
       "5126                 3  \n",
       "9402                 0  "
      ]
     },
     "execution_count": 27,
     "metadata": {},
     "output_type": "execute_result"
    }
   ],
   "source": [
    "label_mapping = {\n",
    "    'no': 0,\n",
    "    'postpartum': 1,\n",
    "    'major depressive': 2,\n",
    "    'bipolar': 3,\n",
    "    'psychotic': 4,\n",
    "    'atypical': 5\n",
    "}\n",
    "\n",
    "df_balanced['Depression Type'] = df_balanced['Labels'].apply(lambda x: label_mapping[x])\n",
    "df_balanced.sample(10)"
   ]
  },
  {
   "cell_type": "code",
   "execution_count": 30,
   "id": "f0bee683-3b2f-415f-a8d1-41257a147853",
   "metadata": {},
   "outputs": [
    {
     "data": {
      "text/plain": [
       "13702    like emotions rollercoaster control one minute...\n",
       "10432    feel like im losing control thoughts emotions ...\n",
       "11880    youre feeling like please know youre alone sha...\n",
       "7626     hypocrite exposes people amazed know whole fam...\n",
       "Name: Tweets, dtype: object"
      ]
     },
     "execution_count": 30,
     "metadata": {},
     "output_type": "execute_result"
    }
   ],
   "source": [
    "from sklearn.model_selection import train_test_split\n",
    "\n",
    "X_train, X_test, y_train, y_test = train_test_split(df_balanced['Tweets'], df_balanced['Depression Type'], stratify=df_balanced['Depression Type'])\n",
    "X_train.head(4)"
   ]
  },
  {
   "cell_type": "code",
   "execution_count": null,
   "id": "4cb39d5e-c642-4c5e-95c6-de72ec85ab8a",
   "metadata": {},
   "outputs": [],
   "source": [
    "bert_preprocess = hub.KerasLayer(\"https://tfhub.dev/tensorflow/bert_en_uncased_preprocess/3\")\n",
    "bert_encoder = hub.KerasLayer(\"https://tfhub.dev/tensorflow/bert_en_uncased_L-12_H-768_A-12/4\")"
   ]
  },
  {
   "cell_type": "code",
   "execution_count": null,
   "id": "1ba6ee74-03d0-4cf1-812b-147da68048b0",
   "metadata": {},
   "outputs": [],
   "source": []
  }
 ],
 "metadata": {
  "kernelspec": {
   "display_name": "bert_envi",
   "language": "python",
   "name": "bert_envi"
  },
  "language_info": {
   "codemirror_mode": {
    "name": "ipython",
    "version": 3
   },
   "file_extension": ".py",
   "mimetype": "text/x-python",
   "name": "python",
   "nbconvert_exporter": "python",
   "pygments_lexer": "ipython3",
   "version": "3.11.6"
  }
 },
 "nbformat": 4,
 "nbformat_minor": 5
}
